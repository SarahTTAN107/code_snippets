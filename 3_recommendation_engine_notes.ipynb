{
  "nbformat": 4,
  "nbformat_minor": 0,
  "metadata": {
    "colab": {
      "name": "recommendation_engine.ipynb",
      "provenance": [],
      "authorship_tag": "ABX9TyMoAwCu9qyltPpV/5uxk95u",
      "include_colab_link": true
    },
    "kernelspec": {
      "name": "python3",
      "display_name": "Python 3"
    }
  },
  "cells": [
    {
      "cell_type": "markdown",
      "metadata": {
        "id": "view-in-github",
        "colab_type": "text"
      },
      "source": [
        "<a href=\"https://colab.research.google.com/github/SarahTTAN107/code_snippets/blob/master/3_recommendation_engine_notes.ipynb\" target=\"_parent\"><img src=\"https://colab.research.google.com/assets/colab-badge.svg\" alt=\"Open In Colab\"/></a>"
      ]
    },
    {
      "cell_type": "markdown",
      "metadata": {
        "id": "FgovSydhLpDs"
      },
      "source": [
        "### Make recommendation engine based on similarity between 2 items \n",
        "Each item (movies) will have several features => we need to calculate the distance between vectors (representing items)."
      ]
    },
    {
      "cell_type": "markdown",
      "metadata": {
        "id": "YXYhWq_dLrEp"
      },
      "source": [
        "In order to do that, we need to calculate cosine similarity (cos(theta)). Let's take the below example to see how to calculate cosine similarity\n"
      ]
    },
    {
      "cell_type": "code",
      "metadata": {
        "id": "n7XTss8OLvPS"
      },
      "source": [
        "from sklearn.feature_extraction.text import CountVectorizer"
      ],
      "execution_count": 2,
      "outputs": []
    },
    {
      "cell_type": "code",
      "metadata": {
        "id": "QGn4I7trMOX3"
      },
      "source": [
        "text = [\"London Paris London\", \"Paris Paris London\"]\n",
        "cv = CountVectorizer()\n",
        "cv_fit = cv.fit_transform(text)"
      ],
      "execution_count": 3,
      "outputs": []
    },
    {
      "cell_type": "code",
      "metadata": {
        "id": "LIPKQZzMMZ09",
        "outputId": "cc1be493-99e0-4a33-d5f7-d1e2438c2939",
        "colab": {
          "base_uri": "https://localhost:8080/",
          "height": 68
        }
      },
      "source": [
        "print(cv.get_feature_names())\n",
        "print(cv_fit.toarray())"
      ],
      "execution_count": 6,
      "outputs": [
        {
          "output_type": "stream",
          "text": [
            "['london', 'paris']\n",
            "[[2 1]\n",
            " [1 2]]\n"
          ],
          "name": "stdout"
        }
      ]
    },
    {
      "cell_type": "code",
      "metadata": {
        "id": "_ZzGENCuMgWx"
      },
      "source": [
        ""
      ],
      "execution_count": null,
      "outputs": []
    }
  ]
}